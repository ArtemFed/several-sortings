{
 "cells": [
  {
   "cell_type": "code",
   "execution_count": null,
   "metadata": {},
   "outputs": [],
   "source": [
    "import matplotlib.pyplot as plt\n",
    "import numpy as np\n",
    "import pandas as pd"
   ]
  },
  {
   "cell_type": "code",
   "execution_count": null,
   "metadata": {},
   "outputs": [],
   "source": [
    "#np.warnings.filterwarnings('ignore', category=np.VisibleDeprecationWarning)\n",
    "from time import sleep\n",
    "\n",
    "plt.rcParams.update({\n",
    "  'font.size': 15, \n",
    "  'figure.figsize' : [35, 17],\n",
    "  'lines.linewidth' : 2,\n",
    "  })\n"
   ]
  },
  {
   "cell_type": "code",
   "execution_count": null,
   "metadata": {},
   "outputs": [],
   "source": [
    "titles=['size', 'time', 'operations']"
   ]
  },
  {
   "attachments": {},
   "cell_type": "markdown",
   "metadata": {},
   "source": [
    "### Считывание и функции для отрисовки"
   ]
  },
  {
   "cell_type": "code",
   "execution_count": null,
   "metadata": {},
   "outputs": [],
   "source": [
    "arrayNums = ['300', '4100']\n",
    "arrayNamesFast = ['Counting', 'Heap', 'Merge', 'Radix', 'Shell', 'ShellCiur']\n",
    "arrayNamesSlow = ['Bubble', 'BubbleIv1', 'BubbleIv2', 'Insertion', 'InsertionBinary', 'Quick', 'Selection']\n",
    "\n",
    "mapTypeInfo = {'desc' : 'Descending', 'hard' : 'Hard Random', 'medm' : 'Medium Random', 'near' : 'Almost sorted'}"
   ]
  },
  {
   "cell_type": "code",
   "execution_count": null,
   "metadata": {},
   "outputs": [],
   "source": [
    "mapSortsFast = {}\n",
    "\n",
    "map300 = {}\n",
    "map4100 = {}\n",
    "\n",
    "mapSortsFast['300'] = map300\n",
    "mapSortsFast['4100'] = map4100\n",
    "\n",
    "map300['desc'] = []\n",
    "map300['hard'] = []\n",
    "map300['medm'] = []\n",
    "map300['near'] = []\n",
    "\n",
    "map4100['desc'] = []\n",
    "map4100['hard'] = []\n",
    "map4100['medm'] = []\n",
    "map4100['near'] = []\n",
    "\n",
    "# -------------------------------- #\n",
    "\n",
    "mapSortsSlow = {}\n",
    "\n",
    "map300Slow = {}\n",
    "map4100Slow = {}\n",
    "\n",
    "mapSortsSlow['300'] = map300Slow\n",
    "mapSortsSlow['4100'] = map4100Slow\n",
    "\n",
    "map300Slow['desc'] = []\n",
    "map300Slow['hard'] = []\n",
    "map300Slow['medm'] = []\n",
    "map300Slow['near'] = []\n",
    "\n",
    "map4100Slow['desc'] = []\n",
    "map4100Slow['hard'] = []\n",
    "map4100Slow['medm'] = []\n",
    "map4100Slow['near'] = []\n",
    "\n",
    "\n",
    "for num in arrayNums:\n",
    "  for type in mapTypeInfo.keys():\n",
    "    for name in arrayNamesFast:\n",
    "      mapSortsFast[num][type].append(pd.read_csv(f'tests/size{num}/{(name).lower()}_{type}_{num}.csv', sep=';'))\n",
    "    for name in arrayNamesSlow:\n",
    "      mapSortsSlow[num][type].append(pd.read_csv(f'tests/size{num}/{(name).lower()}_{type}_{num}.csv', sep=';'))\n",
    "      \n",
    "display(mapSortsFast['300']['desc'][0])\n",
    "display(mapSortsSlow['300']['desc'][0])"
   ]
  },
  {
   "attachments": {},
   "cell_type": "markdown",
   "metadata": {},
   "source": [
    "### Все сортировки"
   ]
  },
  {
   "cell_type": "code",
   "execution_count": null,
   "metadata": {},
   "outputs": [],
   "source": [
    "def plotAllSortsTestsFast(numStart : str, numEnd : str, type : str):\n",
    "  fig, axs = plt.subplots(nrows= 1 , ncols= 2)\n",
    "  i = 0\n",
    "  param = 'time'\n",
    "  for item in mapSortsFast[numEnd][type]:\n",
    "    item.plot(ax=axs[0], x='size', y=param, xlabel='size', ylabel='nanosec', title=f'All Fast sorts by {param}: Array from {numStart} to {numEnd}', label=arrayNamesFast[i])\n",
    "    i += 1\n",
    "  axs[0].legend()\n",
    "\n",
    "  i = 0\n",
    "  param = 'operations'\n",
    "  for item in mapSortsFast[numEnd][type]:\n",
    "    item.plot(ax=axs[1], x='size', y=param, xlabel='size', ylabel='operations', title=f'All Fast sorts by {param}: Array from {numStart} to {numEnd}', label=arrayNamesFast[i])\n",
    "    i += 1\n",
    "  axs[1].legend()\n",
    "  plt.show()"
   ]
  },
  {
   "cell_type": "code",
   "execution_count": null,
   "metadata": {},
   "outputs": [],
   "source": [
    "def plotAllSortsTestsSlow(numStart : str, numEnd : str, type : str):\n",
    "  fig, axs = plt.subplots(nrows= 1 , ncols= 2)\n",
    "  i = 0\n",
    "  param = 'time'\n",
    "  for item in mapSortsSlow[numEnd][type]:\n",
    "    item.plot(ax=axs[0], x='size', y=param, xlabel='size', ylabel='nanosec', title=f'All Slow sorts by {param}: Array from {numStart} to {numEnd}', label=arrayNamesSlow[i])\n",
    "    i += 1\n",
    "  axs[0].legend()\n",
    "\n",
    "  i = 0\n",
    "  param = 'operations'\n",
    "  for item in mapSortsSlow[numEnd][type]:\n",
    "    item.plot(ax=axs[1], x='size', y=param, xlabel='size', ylabel='operations', title=f'All Slow sorts by {param}: Array from {numStart} to {numEnd}', label=arrayNamesSlow[i])\n",
    "    i += 1\n",
    "  axs[1].legend()\n",
    "  plt.show()"
   ]
  },
  {
   "attachments": {},
   "cell_type": "markdown",
   "metadata": {},
   "source": [
    "##### Medium Random"
   ]
  },
  {
   "cell_type": "code",
   "execution_count": null,
   "metadata": {},
   "outputs": [],
   "source": [
    "print('Fast Sorts | 50 - 300 | Medium Random')\n",
    "plotAllSortsTestsFast('50','300', 'medm')\n",
    "\n",
    "print('\\n')\n",
    "print('Slow Sorts | 50 - 300 | Medium Random')\n",
    "plotAllSortsTestsSlow('50','300', 'medm')"
   ]
  },
  {
   "cell_type": "code",
   "execution_count": null,
   "metadata": {},
   "outputs": [],
   "source": [
    "print('Fast Sorts | 50 - 300 | Medium Random')\n",
    "plotAllSortsTestsFast('100','4100', 'medm')\n",
    "\n",
    "plotAllSortsTestsSlow('100','4100', 'medm')"
   ]
  },
  {
   "attachments": {},
   "cell_type": "markdown",
   "metadata": {},
   "source": [
    "##### Hard Random"
   ]
  },
  {
   "cell_type": "code",
   "execution_count": null,
   "metadata": {},
   "outputs": [],
   "source": [
    "print('Fast Sorts | 50 - 300 | Medium Random')\n",
    "plotAllSortsTestsFast('50','300', 'hard')\n",
    "\n",
    "plotAllSortsTestsSlow('50','300', 'hard')"
   ]
  },
  {
   "cell_type": "code",
   "execution_count": null,
   "metadata": {},
   "outputs": [],
   "source": [
    "print('Fast Sorts | 50 - 300 | Medium Random')\n",
    "plotAllSortsTestsFast('100','4100', 'hard')\n",
    "\n",
    "plotAllSortsTestsSlow('100','4100', 'hard')"
   ]
  },
  {
   "attachments": {},
   "cell_type": "markdown",
   "metadata": {},
   "source": [
    "##### Almost Sorted"
   ]
  },
  {
   "cell_type": "code",
   "execution_count": null,
   "metadata": {},
   "outputs": [],
   "source": [
    "print('Fast Sorts | 50 - 300 | Medium Random')\n",
    "plotAllSortsTestsFast('50','300', 'near')\n",
    "\n",
    "plotAllSortsTestsSlow('50','300', 'near')"
   ]
  },
  {
   "cell_type": "code",
   "execution_count": null,
   "metadata": {},
   "outputs": [],
   "source": [
    "print('Fast Sorts | 50 - 300 | Medium Random')\n",
    "plotAllSortsTestsFast('100','4100', 'near')\n",
    "\n",
    "plotAllSortsTestsSlow('100','4100', 'near')"
   ]
  },
  {
   "attachments": {},
   "cell_type": "markdown",
   "metadata": {},
   "source": [
    "##### Descending Sorted"
   ]
  },
  {
   "cell_type": "code",
   "execution_count": null,
   "metadata": {},
   "outputs": [],
   "source": [
    "print('Fast Sorts | 50 - 300 | Medium Random')\n",
    "plotAllSortsTestsFast('50','300', 'desc')\n",
    "\n",
    "plotAllSortsTestsSlow('50','300', 'desc')"
   ]
  },
  {
   "cell_type": "code",
   "execution_count": null,
   "metadata": {},
   "outputs": [],
   "source": [
    "print('Fast Sorts | 50 - 300 | Medium Random')\n",
    "plotAllSortsTestsFast('100','4100', 'desc')\n",
    "\n",
    "plotAllSortsTestsSlow('100','4100', 'desc')"
   ]
  },
  {
   "attachments": {},
   "cell_type": "markdown",
   "metadata": {},
   "source": [
    "## Каждая сортировка"
   ]
  },
  {
   "cell_type": "code",
   "execution_count": null,
   "metadata": {},
   "outputs": [],
   "source": [
    "def plotAllSortsTests(numStart : str, numEnd : str, type : str):\n",
    "  fig, axs = plt.subplots(nrows= 1 , ncols= 2)\n",
    "  i = 0\n",
    "  param = 'time'\n",
    "  for item in mapSortsFast[numEnd][type]:\n",
    "    item.plot(ax=axs[0], x='size', y=param, xlabel='size', ylabel='nanosec', title=f'All sorts by {param}: Array from {numStart} to {numEnd}', label=arrayNamesFast[i])\n",
    "    i += 1\n",
    "  axs[0].legend()\n",
    "\n",
    "  i = 0\n",
    "  param = 'operations'\n",
    "  for item in mapSortsFast[numEnd][type]:\n",
    "    item.plot(ax=axs[1], x='size', y=param, xlabel='size', ylabel='operations', title=f'All sorts by {param}: Array from {numStart} to {numEnd}', label=arrayNamesFast[i])\n",
    "    i += 1\n",
    "  axs[1].legend()\n",
    "  plt.show()"
   ]
  },
  {
   "cell_type": "code",
   "execution_count": null,
   "metadata": {},
   "outputs": [],
   "source": [
    "def plotSoloSortTests(numStart : str, numEnd : str, sortInd : int):\n",
    "  fig, axs = plt.subplots(nrows= 1 , ncols= 2)\n",
    "  param = 'time'\n",
    "  for type in ['medm', 'hard', 'near', 'desc']:\n",
    "    mapSortsFast[numEnd][type][sortInd].plot(ax=axs[0], x='size', y=param, xlabel='size', ylabel=param, title=f'{arrayNamesFast[sortInd]} by {param}: Array from {numStart} to {numEnd}', label=mapTypeInfo[type])\n",
    "  axs[0].legend()\n",
    "\n",
    "  param = 'operations'\n",
    "  for type in ['medm', 'hard', 'near', 'desc']:\n",
    "    mapSortsFast[numEnd][type][sortInd].plot(ax=axs[1], x='size', y=param, xlabel='size', ylabel=param, title=f'{arrayNamesFast[sortInd]} by {param}: Array from {numStart} to {numEnd}', label=mapTypeInfo[type])\n",
    "  axs[1].legend()\n",
    "  plt.show()"
   ]
  },
  {
   "cell_type": "code",
   "execution_count": null,
   "metadata": {},
   "outputs": [],
   "source": [
    "for i in range(len(arrayNamesFast)):\n",
    "  print(arrayNamesFast[i] + '\\n')\n",
    "  plotSoloSortTests('50', '300', i)\n",
    "  plotSoloSortTests('100', '4100', i)\n",
    "  print('\\n')"
   ]
  },
  {
   "cell_type": "markdown",
   "metadata": {},
   "source": []
  }
 ],
 "metadata": {
  "kernelspec": {
   "display_name": "Python 3",
   "language": "python",
   "name": "python3"
  },
  "language_info": {
   "codemirror_mode": {
    "name": "ipython",
    "version": 3
   },
   "file_extension": ".py",
   "mimetype": "text/x-python",
   "name": "python",
   "nbconvert_exporter": "python",
   "pygments_lexer": "ipython3",
   "version": "3.8.10"
  },
  "vscode": {
   "interpreter": {
    "hash": "97ca90187427385793073383b38d34dae370a929007d873afa830103967542db"
   }
  }
 },
 "nbformat": 4,
 "nbformat_minor": 1
}
